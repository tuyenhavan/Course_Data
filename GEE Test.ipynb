{
 "cells": [
  {
   "cell_type": "code",
   "execution_count": 1,
   "id": "26e16d7d",
   "metadata": {},
   "outputs": [],
   "source": [
    "import ee\n",
    "import geemap as emap"
   ]
  },
  {
   "cell_type": "code",
   "execution_count": 2,
   "id": "dc477b38",
   "metadata": {},
   "outputs": [
    {
     "data": {
      "text/html": [
       "<p>To authorize access needed by Earth Engine, open the following\n",
       "        URL in a web browser and follow the instructions:</p>\n",
       "        <p><a href=https://accounts.google.com/o/oauth2/auth?client_id=517222506229-vsmmajv00ul0bs7p89v5m89qs8eb9359.apps.googleusercontent.com&scope=https%3A%2F%2Fwww.googleapis.com%2Fauth%2Fearthengine+https%3A%2F%2Fwww.googleapis.com%2Fauth%2Fdevstorage.full_control&redirect_uri=urn%3Aietf%3Awg%3Aoauth%3A2.0%3Aoob&response_type=code&code_challenge=kMqR5RL3IfhuJAssGOukBonTjRLW5ZqAUi1B9ZU0Jws&code_challenge_method=S256>https://accounts.google.com/o/oauth2/auth?client_id=517222506229-vsmmajv00ul0bs7p89v5m89qs8eb9359.apps.googleusercontent.com&scope=https%3A%2F%2Fwww.googleapis.com%2Fauth%2Fearthengine+https%3A%2F%2Fwww.googleapis.com%2Fauth%2Fdevstorage.full_control&redirect_uri=urn%3Aietf%3Awg%3Aoauth%3A2.0%3Aoob&response_type=code&code_challenge=kMqR5RL3IfhuJAssGOukBonTjRLW5ZqAUi1B9ZU0Jws&code_challenge_method=S256</a></p>\n",
       "        <p>The authorization workflow will generate a code, which you\n",
       "        should paste in the box below</p>\n",
       "        "
      ],
      "text/plain": [
       "<IPython.core.display.HTML object>"
      ]
     },
     "metadata": {},
     "output_type": "display_data"
    },
    {
     "name": "stdout",
     "output_type": "stream",
     "text": [
      "Enter verification code: 4/1AX4XfWj8cuPttKEqdiv7n8DeyMH9OsjKQhkk6OFDQOxWFt_lMdP7bLjkAUk\n",
      "\n",
      "Successfully saved authorization token.\n"
     ]
    }
   ],
   "source": [
    "ee.Authenticate()\n",
    "ee.Initialize()"
   ]
  },
  {
   "cell_type": "code",
   "execution_count": 3,
   "id": "fe8e63b9",
   "metadata": {},
   "outputs": [],
   "source": [
    "Map=emap.Map()"
   ]
  },
  {
   "cell_type": "markdown",
   "id": "d54f799c",
   "metadata": {},
   "source": [
    "# Landsat 8 and test area"
   ]
  },
  {
   "cell_type": "code",
   "execution_count": 4,
   "id": "f274e316",
   "metadata": {},
   "outputs": [
    {
     "data": {
      "text/plain": [
       "14"
      ]
     },
     "execution_count": 4,
     "metadata": {},
     "output_type": "execute_result"
    }
   ],
   "source": [
    "# Define the test area Hanoi.\n",
    "hn=ee.FeatureCollection(\"users/havantuyen/HN_Mos\")\n",
    "# Load a cloudy Landsat 8 image.\n",
    "ls8 = ee.ImageCollection('LANDSAT/LC08/C01/T1_TOA').filterDate(\"2020-01-01\",\"2021-01-01\").\\\n",
    "filterBounds(hn).filter(ee.Filter.lt(\"CLOUD_COVER\",30))\n",
    "# print out the number of images\n",
    "ls8.size().getInfo()"
   ]
  },
  {
   "cell_type": "markdown",
   "id": "7345ea93",
   "metadata": {},
   "source": [
    "**1. How does `qualityMosaic` function pick up the greenest image or pixel in the image collection?**"
   ]
  },
  {
   "cell_type": "code",
   "execution_count": 5,
   "id": "9b476a3c",
   "metadata": {},
   "outputs": [],
   "source": [
    "# user defined function to generate NDVI \n",
    "def ndvi(img):\n",
    "    NDVI=img.expression(\"(NIR-RED)/(NIR+RED)\",{\n",
    "        \"NIR\":img.select(\"B5\"),\n",
    "    \"RED\":img.select(\"B4\")}).rename(\"NDVI\")\n",
    "    day=ee.Image(ee.Number.parse(img.date().format(\"D\"))).rename(\"DOY\").toInt()\n",
    "    return img.addBands(NDVI).addBands(day)\n",
    "ls8NDVI=ls8.map(ndvi)"
   ]
  },
  {
   "cell_type": "code",
   "execution_count": 6,
   "id": "1373699e",
   "metadata": {},
   "outputs": [
    {
     "data": {
      "application/vnd.jupyter.widget-view+json": {
       "model_id": "c85d539ce9bb423d99d689d96f623a69",
       "version_major": 2,
       "version_minor": 0
      },
      "text/plain": [
       "Map(center=[40, -100], controls=(WidgetControl(options=['position', 'transparent_bg'], widget=HBox(children=(T…"
      ]
     },
     "metadata": {},
     "output_type": "display_data"
    }
   ],
   "source": [
    "# Using qualityMosaic to find the greenest days of the year\n",
    "greenest=ls8NDVI.qualityMosaic(\"NDVI\")\n",
    "Map.centerObject(hn)\n",
    "Map.addLayer(greenest.select(\"NDVI\"),{\"palette\":[\"red\",\"yellow\",\"green\"],\"max\":0.5,\"min\":0},\"Greenest NDVI\")\n",
    "Map"
   ]
  },
  {
   "cell_type": "markdown",
   "id": "d89393b3",
   "metadata": {},
   "source": [
    "**2. How does `ee.Image().toArray()` and `arrayFlatten()` work? is it the same numpy array in Python?**\n",
    "\n",
    "When should we convert image/images to array?"
   ]
  },
  {
   "cell_type": "code",
   "execution_count": 7,
   "id": "ec037f92",
   "metadata": {},
   "outputs": [],
   "source": [
    "image=ls8.first().toArray()"
   ]
  },
  {
   "cell_type": "markdown",
   "id": "1b1b5543",
   "metadata": {},
   "source": [
    "**3. How to convert an image dictionary to an Image?**"
   ]
  },
  {
   "cell_type": "code",
   "execution_count": 8,
   "id": "a090d841",
   "metadata": {},
   "outputs": [
    {
     "data": {
      "text/plain": [
       "True"
      ]
     },
     "execution_count": 8,
     "metadata": {},
     "output_type": "execute_result"
    }
   ],
   "source": [
    "mdict=ls8.getInfo()[\"features\"]\n",
    "mdict[0]==ls8.first().getInfo()"
   ]
  },
  {
   "cell_type": "code",
   "execution_count": 9,
   "id": "2a8a508e",
   "metadata": {},
   "outputs": [],
   "source": [
    "newImage=ee.Image(ee.Dictionary(mdict[0]))\n",
    "# Map.addLayer(newImage,{},\"Image from Dictionary\")\n",
    "# Map"
   ]
  },
  {
   "cell_type": "markdown",
   "id": "5e4a7c02",
   "metadata": {},
   "source": [
    "**4. How did the script below work? and how is the difference between two methods?**"
   ]
  },
  {
   "cell_type": "code",
   "execution_count": 11,
   "id": "1a56d322",
   "metadata": {},
   "outputs": [],
   "source": [
    "image = ee.Image('COPERNICUS/S2/20190703T050701_20190703T052312_T43PGP')\n",
    "vis={\"min\":0,\"max\":3000,\"bands\":[\"B4\",\"B3\",\"B2\"]}\n",
    "Map.centerObject(image)\n",
    "Map.addLayer(image,vis,\"Image\")"
   ]
  },
  {
   "cell_type": "markdown",
   "id": "c9f23fa5",
   "metadata": {},
   "source": [
    "- Using `bitwiseAnd()` "
   ]
  },
  {
   "cell_type": "code",
   "execution_count": 12,
   "id": "27ca169a",
   "metadata": {},
   "outputs": [
    {
     "data": {
      "application/vnd.jupyter.widget-view+json": {
       "model_id": "c85d539ce9bb423d99d689d96f623a69",
       "version_major": 2,
       "version_minor": 0
      },
      "text/plain": [
       "Map(bottom=61376.0, center=[12.157960082986381, 77.3428094074448], controls=(WidgetControl(options=['position'…"
      ]
     },
     "metadata": {},
     "output_type": "display_data"
    }
   ],
   "source": [
    "# Select QA band\n",
    "img=image.select(\"QA60\")\n",
    "# A binary image with 0 indicating cirrus and 1 otherwise\n",
    "cirrus=img.bitwiseAnd(1<<11).eq(0)\n",
    "# A binary image with 0 indicating cloud and 1 otherwise\n",
    "cloud=img.bitwiseAnd(1<<10).eq(0)\n",
    "# Combine to get an image where 1 indicates no cloud and 0 otherwise\n",
    "combine=cloud.And(cirrus)\n",
    "\n",
    "Map.addLayer(combine,{},\"Combine\")\n",
    "Map"
   ]
  },
  {
   "cell_type": "markdown",
   "id": "3f8613a1",
   "metadata": {},
   "source": [
    "- Without `bitwiseAnd`"
   ]
  },
  {
   "cell_type": "code",
   "execution_count": 13,
   "id": "88ebaec0",
   "metadata": {},
   "outputs": [
    {
     "data": {
      "application/vnd.jupyter.widget-view+json": {
       "model_id": "c85d539ce9bb423d99d689d96f623a69",
       "version_major": 2,
       "version_minor": 0
      },
      "text/plain": [
       "Map(bottom=61376.0, center=[12.157960082986381, 77.3428094074448], controls=(WidgetControl(options=['position'…"
      ]
     },
     "metadata": {},
     "output_type": "display_data"
    }
   ],
   "source": [
    "# Select QA band\n",
    "img=image.select(\"QA60\")\n",
    "# A binary image with 0 indicating cirrus and 1 otherwise\n",
    "# cirrus=img.eq(0)\n",
    "# A binary image with 0 indicating cloud and 1 otherwise\n",
    "cloud=img.eq(0)\n",
    "# Combine to get an image where 1 indicates no cloud and 0 otherwise\n",
    "# combine=cloud.And(cirrus)\n",
    "\n",
    "Map.addLayer(cloud,{},\"Without Bitwise\") # I have noitced no differences between the two\n",
    "Map"
   ]
  },
  {
   "cell_type": "code",
   "execution_count": 14,
   "id": "5b1963dc",
   "metadata": {},
   "outputs": [],
   "source": [
    "noCloud=image.updateMask(cloud)"
   ]
  },
  {
   "cell_type": "markdown",
   "id": "2a221a86",
   "metadata": {},
   "source": [
    "**5. How does `ee.Reducer.histogram()` and `ee.Reducer.linearFit()` work? and How to get basic statistics of an image such as `mean`, `max`, etc?**\n",
    "\n",
    "`.reduce(ee.Reducer.mean()` can be applied for image collection, feature collection or list."
   ]
  },
  {
   "cell_type": "code",
   "execution_count": 50,
   "id": "94be2fad",
   "metadata": {},
   "outputs": [],
   "source": [
    "image = ee.Image('LANDSAT/LC08/C01/T1_TOA/LC08_044034_20140318')"
   ]
  },
  {
   "cell_type": "code",
   "execution_count": 51,
   "id": "03a1ceaa",
   "metadata": {},
   "outputs": [
    {
     "data": {
      "text/plain": [
       "{'type': 'Polygon',\n",
       " 'coordinates': [[[-121.3637119499993, 36.41016684133052],\n",
       "   [-121.35905784815819, 36.42528989660049],\n",
       "   [-121.2315833015866, 36.840374852891664],\n",
       "   [-121.09978718573184, 37.26438246506325],\n",
       "   [-121.00571062336425, 37.564795515259384],\n",
       "   [-120.98453376062118, 37.632161601008896],\n",
       "   [-120.95100979452299, 37.73864548098522],\n",
       "   [-120.90277241165228, 37.89149086576169],\n",
       "   [-120.8836409072059, 37.951976016520376],\n",
       "   [-120.85713152433351, 38.03584247073611],\n",
       "   [-120.82804345546616, 38.12789513604401],\n",
       "   [-122.38148159443172, 38.42337450676813],\n",
       "   [-122.9500220192271, 38.525813632077686],\n",
       "   [-122.95103687833704, 38.52422133103557],\n",
       "   [-122.9569591344694, 38.504384836247866],\n",
       "   [-123.43853932998316, 36.805122381748035],\n",
       "   [-123.18722447462653, 36.759167415189125],\n",
       "   [-121.5105534682754, 36.43765126135182],\n",
       "   [-121.36447385999617, 36.408418528930035],\n",
       "   [-121.3637119499993, 36.41016684133052]]]}"
      ]
     },
     "execution_count": 51,
     "metadata": {},
     "output_type": "execute_result"
    }
   ],
   "source": [
    "# Is the coordinate below bounding box of the image\n",
    "image.geometry().getInfo()"
   ]
  },
  {
   "cell_type": "code",
   "execution_count": 53,
   "id": "4e09497c",
   "metadata": {},
   "outputs": [],
   "source": [
    "# Compute min, max or other statistics for each band \n",
    "# stats = image.reduceRegion({\n",
    "#   \"reducer\": ee.Reducer.mean(),\n",
    "#   \"geometry\": image.geometry(),\n",
    "#   \"scale\": 100,\n",
    "#   \"maxPixels\": 1e10\n",
    "#   })"
   ]
  },
  {
   "cell_type": "markdown",
   "id": "f4e43adb",
   "metadata": {},
   "source": [
    "**6. How to calculate `mean` from all images or ImageCollection within a certain percentile range?**"
   ]
  },
  {
   "cell_type": "code",
   "execution_count": 76,
   "id": "c75a53ed",
   "metadata": {},
   "outputs": [],
   "source": [
    "ls8=ee.ImageCollection(\"LANDSAT/LC08/C01/T1_TOA\").filterDate(\"2020-01-01\",\"2020-12-10\").filterBounds(hn)"
   ]
  },
  {
   "cell_type": "code",
   "execution_count": 81,
   "id": "9f0ef39d",
   "metadata": {},
   "outputs": [],
   "source": [
    "pc10=ls8.reduce(ee.Reducer.percentile([20,50,95]))"
   ]
  },
  {
   "cell_type": "code",
   "execution_count": 101,
   "id": "89ce5fd9",
   "metadata": {},
   "outputs": [
    {
     "data": {
      "text/plain": [
       "(5.111111111111111, 5.0)"
      ]
     },
     "execution_count": 101,
     "metadata": {},
     "output_type": "execute_result"
    }
   ],
   "source": [
    "# example to get mean or median from certain percentile range\n",
    "import numpy as np\n",
    "\n",
    "a=np.array([1,2,3,3,4,6,8,9,445,5,6,-1101010])\n",
    "\n",
    "def percentileMean(array, lower=25,upper=95):\n",
    "    lower1=np.percentile(array,lower)\n",
    "    upper1=np.percentile(array,upper)\n",
    "    mlist=[]\n",
    "    for i in array:\n",
    "        if lower1<=i<=upper1:\n",
    "            mlist.append(i)\n",
    "    return np.mean(np.array(mlist)), np.median(np.array(mlist))\n",
    "percentileMean(a,10,99)"
   ]
  },
  {
   "cell_type": "markdown",
   "id": "0da78625",
   "metadata": {},
   "source": [
    "- **How to convert an entire image of a constant to a vector shapefile?**\n",
    "\n",
    "For exmaple, calculate the number of images over time and location and convert them into vector shapefile, and each shapefile of image represents a number which indicated number of images."
   ]
  },
  {
   "cell_type": "code",
   "execution_count": 23,
   "id": "8ed7fd80",
   "metadata": {},
   "outputs": [],
   "source": [
    "def count(img):\n",
    "    image=img.select(\"B2\").multiply(0).add(1).rename(\"quantity\").toInt()\n",
    "    return img.addBands(image)"
   ]
  },
  {
   "cell_type": "code",
   "execution_count": 24,
   "id": "b6e7d4ab",
   "metadata": {},
   "outputs": [],
   "source": [
    "newls=ls8.map(count)"
   ]
  },
  {
   "cell_type": "code",
   "execution_count": 25,
   "id": "6dac3169",
   "metadata": {
    "scrolled": true
   },
   "outputs": [
    {
     "data": {
      "application/vnd.jupyter.widget-view+json": {
       "model_id": "c85d539ce9bb423d99d689d96f623a69",
       "version_major": 2,
       "version_minor": 0
      },
      "text/plain": [
       "Map(bottom=14815.0, center=[20.107523268824004, 107.27050781250001], controls=(WidgetControl(options=['positio…"
      ]
     },
     "metadata": {},
     "output_type": "display_data"
    }
   ],
   "source": [
    "Map.centerObject(hn)\n",
    "Map.addLayer(newls.select(\"quantity\").sum(),{\"min\":1,\"max\":10,\"palette\":[\"green\",\"red\"]},\"Number\")\n",
    "Map"
   ]
  },
  {
   "cell_type": "code",
   "execution_count": 22,
   "id": "9b5cdca4",
   "metadata": {},
   "outputs": [],
   "source": [
    "b2=ls8.first().select(\"B2\").multiply(0).add(1)"
   ]
  },
  {
   "cell_type": "code",
   "execution_count": null,
   "id": "6a2d5e21",
   "metadata": {},
   "outputs": [],
   "source": []
  }
 ],
 "metadata": {
  "kernelspec": {
   "display_name": "Python 3 (ipykernel)",
   "language": "python",
   "name": "python3"
  },
  "language_info": {
   "codemirror_mode": {
    "name": "ipython",
    "version": 3
   },
   "file_extension": ".py",
   "mimetype": "text/x-python",
   "name": "python",
   "nbconvert_exporter": "python",
   "pygments_lexer": "ipython3",
   "version": "3.8.10"
  }
 },
 "nbformat": 4,
 "nbformat_minor": 5
}
